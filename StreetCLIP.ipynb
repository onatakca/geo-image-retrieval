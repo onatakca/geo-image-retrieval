{
 "cells": [
  {
   "cell_type": "code",
   "execution_count": 1,
   "id": "ef69ad4a-9e75-4db6-a6e0-8b7dc3b9060c",
   "metadata": {},
   "outputs": [],
   "source": [
    "import os\n",
    "os.environ[\"HF_HUB_ENABLE_HF_TRANSFER\"] = \"0\""
   ]
  },
  {
   "cell_type": "code",
   "execution_count": 30,
   "id": "877b32c9",
   "metadata": {},
   "outputs": [],
   "source": [
    "import json\n",
    "import numpy as np\n",
    "import h5py\n",
    "import matplotlib.pyplot as plt\n",
    "from tqdm import tqdm\n",
    "from transformers import pipeline\n",
    "from transformers import AutoImageProcessor, AutoModel\n",
    "from transformers import CLIPModel, CLIPProcessor\n",
    "import torch\n",
    "import os\n",
    "from PIL import Image\n",
    "from sklearn.metrics.pairwise import cosine_similarity \n",
    "import pandas as pd"
   ]
  },
  {
   "cell_type": "code",
   "execution_count": 3,
   "id": "6ac1b1ea",
   "metadata": {},
   "outputs": [],
   "source": [
    "# map\n",
    "with open(\"../data02/database/database_lite.json\",\"r\") as f:\n",
    "    m_idx = json.load(f)\n",
    "    m_imgs = np.array(m_idx[\"im_paths\"])\n",
    "    m_loc=np.array(m_idx[\"loc\"])\n",
    "\n",
    "# query\n",
    "with open(\"../data02/query/query_lite.json\",\"r\") as f:\n",
    "    q_idx=json.load(f)\n",
    "    q_imgs=np.array(q_idx[\"im_paths\"])\n",
    "    q_loc=np.array(q_idx[\"loc\"])\n",
    "    \n",
    "# loading the relevance judgements\n",
    "with h5py.File(\"../data02/london_lite_gt.h5\",\"r\") as f:\n",
    "   fovs = f[\"fov\"][:]\n",
    "   sim = f[\"sim\"][:].astype(np.uint8)"
   ]
  },
  {
   "cell_type": "code",
   "execution_count": 4,
   "id": "b85314ab",
   "metadata": {},
   "outputs": [],
   "source": [
    "from huggingface_hub import login\n",
    "login(new_session=False)"
   ]
  },
  {
   "cell_type": "code",
   "execution_count": 33,
   "id": "7fe1df2e",
   "metadata": {},
   "outputs": [],
   "source": [
    "def recall(ranks, pidx, ks):\n",
    "    recall_at_k = np.zeros(len(ks))\n",
    "    for qidx in range(ranks.shape[0]):\n",
    "        for i, k in enumerate(ks):\n",
    "            if np.sum(np.in1d(ranks[qidx,:k], pidx[qidx])) > 0:\n",
    "                recall_at_k[i:] += 1\n",
    "                break\n",
    "\n",
    "    recall_at_k /= ranks.shape[0]\n",
    "    return recall_at_k\n",
    "\n",
    "def apk(pidx, rank, k):\n",
    "    if len(rank)>k:\n",
    "        rank = rank[:k]\n",
    "\n",
    "    score = 0.0\n",
    "    num_hits = 0.0\n",
    "\n",
    "    for i,p in enumerate(rank):\n",
    "        if p in pidx and p not in rank[:i]:\n",
    "            num_hits += 1.0\n",
    "            score += num_hits / (i+1.0)\n",
    "\n",
    "    return score / min(len(pidx), k)\n",
    "\n",
    "def mapk(ranks, pidxs, k):\n",
    "\n",
    "    return np.mean([apk(a,p,k) for a,p in zip(pidxs, ranks)])\n",
    "\n",
    "def mapk_many(ranks, pidxs, ks):\n",
    "    return np.array([mapk(ranks, pidxs, k) for k in ks], dtype=float)\n",
    "\n",
    "def average_precision(relevant, retrieved):\n",
    "   precisions = []\n",
    "   rel = 0\n",
    "   for i in range(0, len(retrieved)):\n",
    "      if retrieved[i] in relevant:\n",
    "         rel += 1\n",
    "         precisions.append(rel/(i+1))\n",
    "   return sum(precisions) / len(relevant)\n",
    "\n",
    "def mean_average_precision(all_relevant, all_retrieved):\n",
    "   total = 0\n",
    "   count = 0\n",
    "   for qid in all_relevant: \n",
    "      total += average_precision(all_relevant[qid], all_retrieved.get(qid, []))\n",
    "      count += 1\n",
    "   return total / count\n",
    "\n",
    "\n",
    "def l2_normalize(x, axis=1, eps=1e-12):\n",
    "   norm = np.linalg.norm(x, axis=axis, keepdims=True)\n",
    "   return x / (norm + eps)\n",
    "\n",
    "def get_relevant_images(gt_similarity_matrix, query_idx):\n",
    "   return np.where(gt_similarity_matrix[query_idx, :] == 1)[0]\n",
    "\n",
    "def get_retrieved_images(feature_matrix, query_idx):\n",
    "   return np.argsort(-feature_matrix[query_idx])\n",
    "\n",
    "def save_results_to_csv(model_name, map_value, recall_at_k, mAPs, csv_path=\"./results/feature_extraction_evaluation.csv\"):\n",
    "    results_dict = {\n",
    "        \"models_name\": model_name,\n",
    "        \"MAP\": map_value * 100,\n",
    "        \"Recall@1\": recall_at_k[0] * 100,\n",
    "        \"Recall@5\": recall_at_k[1] * 100,\n",
    "        \"Recall@10\": recall_at_k[2] * 100,\n",
    "        \"Recall@20\": recall_at_k[3] * 100,\n",
    "        \"mAP@1\": mAPs[0] * 100,\n",
    "        \"mAP@5\": mAPs[1] * 100,\n",
    "        \"mAP@10\": mAPs[2] * 100,\n",
    "        \"mAP@20\": mAPs[3] * 100\n",
    "    }\n",
    "\n",
    "    os.makedirs(os.path.dirname(csv_path), exist_ok=True)\n",
    "    \n",
    "    if os.path.exists(csv_path):\n",
    "        df = pd.read_csv(csv_path)\n",
    "        if model_name in df['models_name'].values:\n",
    "            df.loc[df['models_name'] == model_name] = pd.Series(results_dict)\n",
    "        else:\n",
    "            df = pd.concat([df, pd.DataFrame([results_dict])], ignore_index=True)\n",
    "    else:\n",
    "        df = pd.DataFrame([results_dict])\n",
    "    \n",
    "    df.to_csv(csv_path, index=False)\n",
    "    return df\n"
   ]
  },
  {
   "cell_type": "code",
   "execution_count": 42,
   "id": "78ad8663",
   "metadata": {},
   "outputs": [],
   "source": [
    "CLIP_MODELS = {\n",
    "    \"geolocal/StreetCLIP\": 1024,\n",
    "    \"openai/clip-vit-large-patch14\": 1024,\n",
    "    \"openai/clip-vit-base-patch16\": 768,\n",
    "    \"openai/clip-vit-base-patch32\": 768,\n",
    "}"
   ]
  },
  {
   "cell_type": "code",
   "execution_count": 44,
   "id": "597c0027-e1eb-447b-825e-40c13743caf8",
   "metadata": {
    "tags": []
   },
   "outputs": [
    {
     "name": "stdout",
     "output_type": "stream",
     "text": [
      "\n",
      "================================================================================\n",
      "Loading model: geolocal/StreetCLIP\n",
      "================================================================================\n",
      "\n"
     ]
    },
    {
     "name": "stderr",
     "output_type": "stream",
     "text": [
      "100%|██████████| 1000/1000 [01:55<00:00,  8.67it/s]\n",
      "100%|██████████| 500/500 [00:59<00:00,  8.37it/s]\n",
      "/tmp/ipykernel_1484/2298934414.py:5: DeprecationWarning: `in1d` is deprecated. Use `np.isin` instead.\n",
      "  if np.sum(np.in1d(ranks[qidx,:k], pidx[qidx])) > 0:\n"
     ]
    },
    {
     "name": "stdout",
     "output_type": "stream",
     "text": [
      "============================================================\n",
      "Evaluating: CLS_token\n",
      "============================================================\n",
      "MODEL: geolocal/StreetCLIP\n",
      "Pooling: CLS_token\n",
      "MAP: 21.04%\n",
      "Recall@1: 27.00%   mAP@1: 27.00%\n",
      "Recall@5: 46.00%   mAP@5: 15.24%\n",
      "Recall@10: 60.00%   mAP@10: 15.17%\n",
      "Recall@20: 72.80%   mAP@20: 17.05%\n",
      "\n",
      "\n",
      "============================================================\n",
      "Evaluating: Mean_pooling\n",
      "============================================================\n"
     ]
    },
    {
     "name": "stderr",
     "output_type": "stream",
     "text": [
      "/tmp/ipykernel_1484/2298934414.py:5: DeprecationWarning: `in1d` is deprecated. Use `np.isin` instead.\n",
      "  if np.sum(np.in1d(ranks[qidx,:k], pidx[qidx])) > 0:\n"
     ]
    },
    {
     "name": "stdout",
     "output_type": "stream",
     "text": [
      "MODEL: geolocal/StreetCLIP\n",
      "Pooling: Mean_pooling\n",
      "MAP: 25.73%\n",
      "Recall@1: 30.00%   mAP@1: 30.00%\n",
      "Recall@5: 55.20%   mAP@5: 20.68%\n",
      "Recall@10: 65.00%   mAP@10: 20.28%\n",
      "Recall@20: 73.80%   mAP@20: 22.10%\n",
      "\n",
      "\n",
      "============================================================\n",
      "Evaluating: Mean_no_CLS\n",
      "============================================================\n"
     ]
    },
    {
     "name": "stderr",
     "output_type": "stream",
     "text": [
      "/tmp/ipykernel_1484/2298934414.py:5: DeprecationWarning: `in1d` is deprecated. Use `np.isin` instead.\n",
      "  if np.sum(np.in1d(ranks[qidx,:k], pidx[qidx])) > 0:\n"
     ]
    },
    {
     "name": "stdout",
     "output_type": "stream",
     "text": [
      "MODEL: geolocal/StreetCLIP\n",
      "Pooling: Mean_no_CLS\n",
      "MAP: 25.71%\n",
      "Recall@1: 30.00%   mAP@1: 30.00%\n",
      "Recall@5: 55.40%   mAP@5: 20.71%\n",
      "Recall@10: 65.00%   mAP@10: 20.26%\n",
      "Recall@20: 73.80%   mAP@20: 22.09%\n",
      "\n",
      "\n",
      "============================================================\n",
      "Evaluating: Max_pooling\n",
      "============================================================\n"
     ]
    },
    {
     "name": "stderr",
     "output_type": "stream",
     "text": [
      "/tmp/ipykernel_1484/2298934414.py:5: DeprecationWarning: `in1d` is deprecated. Use `np.isin` instead.\n",
      "  if np.sum(np.in1d(ranks[qidx,:k], pidx[qidx])) > 0:\n"
     ]
    },
    {
     "name": "stdout",
     "output_type": "stream",
     "text": [
      "MODEL: geolocal/StreetCLIP\n",
      "Pooling: Max_pooling\n",
      "MAP: 16.05%\n",
      "Recall@1: 25.20%   mAP@1: 25.20%\n",
      "Recall@5: 47.40%   mAP@5: 14.42%\n",
      "Recall@10: 60.60%   mAP@10: 13.17%\n",
      "Recall@20: 74.60%   mAP@20: 13.41%\n",
      "\n",
      "\n",
      "============================================================\n",
      "Evaluating: GeM_pooling\n",
      "============================================================\n"
     ]
    },
    {
     "name": "stderr",
     "output_type": "stream",
     "text": [
      "/tmp/ipykernel_1484/2298934414.py:5: DeprecationWarning: `in1d` is deprecated. Use `np.isin` instead.\n",
      "  if np.sum(np.in1d(ranks[qidx,:k], pidx[qidx])) > 0:\n"
     ]
    },
    {
     "name": "stdout",
     "output_type": "stream",
     "text": [
      "MODEL: geolocal/StreetCLIP\n",
      "Pooling: GeM_pooling\n",
      "MAP: 25.49%\n",
      "Recall@1: 32.60%   mAP@1: 32.60%\n",
      "Recall@5: 55.80%   mAP@5: 21.34%\n",
      "Recall@10: 66.00%   mAP@10: 20.83%\n",
      "Recall@20: 74.60%   mAP@20: 22.14%\n",
      "\n",
      "\n",
      "\n",
      "\n",
      "\n",
      "================================================================================\n",
      "Loading model: openai/clip-vit-large-patch14\n",
      "================================================================================\n",
      "\n"
     ]
    },
    {
     "name": "stderr",
     "output_type": "stream",
     "text": [
      "100%|██████████| 1000/1000 [01:05<00:00, 15.28it/s]\n",
      "100%|██████████| 500/500 [00:33<00:00, 15.05it/s]\n",
      "/tmp/ipykernel_1484/2298934414.py:5: DeprecationWarning: `in1d` is deprecated. Use `np.isin` instead.\n",
      "  if np.sum(np.in1d(ranks[qidx,:k], pidx[qidx])) > 0:\n"
     ]
    },
    {
     "name": "stdout",
     "output_type": "stream",
     "text": [
      "============================================================\n",
      "Evaluating: CLS_token\n",
      "============================================================\n",
      "MODEL: openai/clip-vit-large-patch14\n",
      "Pooling: CLS_token\n",
      "MAP: 19.11%\n",
      "Recall@1: 22.00%   mAP@1: 22.00%\n",
      "Recall@5: 46.40%   mAP@5: 13.46%\n",
      "Recall@10: 60.60%   mAP@10: 13.61%\n",
      "Recall@20: 74.60%   mAP@20: 15.10%\n",
      "\n",
      "\n",
      "============================================================\n",
      "Evaluating: Mean_pooling\n",
      "============================================================\n"
     ]
    },
    {
     "name": "stderr",
     "output_type": "stream",
     "text": [
      "/tmp/ipykernel_1484/2298934414.py:5: DeprecationWarning: `in1d` is deprecated. Use `np.isin` instead.\n",
      "  if np.sum(np.in1d(ranks[qidx,:k], pidx[qidx])) > 0:\n"
     ]
    },
    {
     "name": "stdout",
     "output_type": "stream",
     "text": [
      "MODEL: openai/clip-vit-large-patch14\n",
      "Pooling: Mean_pooling\n",
      "MAP: 28.64%\n",
      "Recall@1: 32.40%   mAP@1: 32.40%\n",
      "Recall@5: 55.40%   mAP@5: 22.51%\n",
      "Recall@10: 67.20%   mAP@10: 22.22%\n",
      "Recall@20: 80.40%   mAP@20: 24.78%\n",
      "\n",
      "\n",
      "============================================================\n",
      "Evaluating: Mean_no_CLS\n",
      "============================================================\n"
     ]
    },
    {
     "name": "stderr",
     "output_type": "stream",
     "text": [
      "/tmp/ipykernel_1484/2298934414.py:5: DeprecationWarning: `in1d` is deprecated. Use `np.isin` instead.\n",
      "  if np.sum(np.in1d(ranks[qidx,:k], pidx[qidx])) > 0:\n"
     ]
    },
    {
     "name": "stdout",
     "output_type": "stream",
     "text": [
      "MODEL: openai/clip-vit-large-patch14\n",
      "Pooling: Mean_no_CLS\n",
      "MAP: 28.64%\n",
      "Recall@1: 32.60%   mAP@1: 32.60%\n",
      "Recall@5: 55.20%   mAP@5: 22.50%\n",
      "Recall@10: 67.00%   mAP@10: 22.24%\n",
      "Recall@20: 80.40%   mAP@20: 24.80%\n",
      "\n",
      "\n",
      "============================================================\n",
      "Evaluating: Max_pooling\n",
      "============================================================\n"
     ]
    },
    {
     "name": "stderr",
     "output_type": "stream",
     "text": [
      "/tmp/ipykernel_1484/2298934414.py:5: DeprecationWarning: `in1d` is deprecated. Use `np.isin` instead.\n",
      "  if np.sum(np.in1d(ranks[qidx,:k], pidx[qidx])) > 0:\n"
     ]
    },
    {
     "name": "stdout",
     "output_type": "stream",
     "text": [
      "MODEL: openai/clip-vit-large-patch14\n",
      "Pooling: Max_pooling\n",
      "MAP: 17.24%\n",
      "Recall@1: 25.60%   mAP@1: 25.60%\n",
      "Recall@5: 49.00%   mAP@5: 15.10%\n",
      "Recall@10: 58.80%   mAP@10: 14.16%\n",
      "Recall@20: 70.40%   mAP@20: 14.49%\n",
      "\n",
      "\n",
      "============================================================\n",
      "Evaluating: GeM_pooling\n",
      "============================================================\n"
     ]
    },
    {
     "name": "stderr",
     "output_type": "stream",
     "text": [
      "/tmp/ipykernel_1484/2298934414.py:5: DeprecationWarning: `in1d` is deprecated. Use `np.isin` instead.\n",
      "  if np.sum(np.in1d(ranks[qidx,:k], pidx[qidx])) > 0:\n"
     ]
    },
    {
     "name": "stdout",
     "output_type": "stream",
     "text": [
      "MODEL: openai/clip-vit-large-patch14\n",
      "Pooling: GeM_pooling\n",
      "MAP: 26.55%\n",
      "Recall@1: 30.20%   mAP@1: 30.20%\n",
      "Recall@5: 52.60%   mAP@5: 21.45%\n",
      "Recall@10: 65.40%   mAP@10: 20.88%\n",
      "Recall@20: 81.20%   mAP@20: 22.77%\n",
      "\n",
      "\n",
      "\n",
      "\n",
      "\n",
      "================================================================================\n",
      "Loading model: openai/clip-vit-base-patch16\n",
      "================================================================================\n",
      "\n"
     ]
    },
    {
     "name": "stderr",
     "output_type": "stream",
     "text": [
      "100%|██████████| 1000/1000 [00:18<00:00, 55.52it/s]\n",
      "100%|██████████| 500/500 [00:28<00:00, 17.30it/s]\n",
      "/tmp/ipykernel_1484/2298934414.py:5: DeprecationWarning: `in1d` is deprecated. Use `np.isin` instead.\n",
      "  if np.sum(np.in1d(ranks[qidx,:k], pidx[qidx])) > 0:\n"
     ]
    },
    {
     "name": "stdout",
     "output_type": "stream",
     "text": [
      "============================================================\n",
      "Evaluating: CLS_token\n",
      "============================================================\n",
      "MODEL: openai/clip-vit-base-patch16\n",
      "Pooling: CLS_token\n",
      "MAP: 20.70%\n",
      "Recall@1: 26.60%   mAP@1: 26.60%\n",
      "Recall@5: 49.00%   mAP@5: 17.27%\n",
      "Recall@10: 60.80%   mAP@10: 16.23%\n",
      "Recall@20: 72.00%   mAP@20: 17.11%\n",
      "\n",
      "\n",
      "============================================================\n",
      "Evaluating: Mean_pooling\n",
      "============================================================\n"
     ]
    },
    {
     "name": "stderr",
     "output_type": "stream",
     "text": [
      "/tmp/ipykernel_1484/2298934414.py:5: DeprecationWarning: `in1d` is deprecated. Use `np.isin` instead.\n",
      "  if np.sum(np.in1d(ranks[qidx,:k], pidx[qidx])) > 0:\n"
     ]
    },
    {
     "name": "stdout",
     "output_type": "stream",
     "text": [
      "MODEL: openai/clip-vit-base-patch16\n",
      "Pooling: Mean_pooling\n",
      "MAP: 24.92%\n",
      "Recall@1: 31.00%   mAP@1: 31.00%\n",
      "Recall@5: 51.80%   mAP@5: 19.65%\n",
      "Recall@10: 64.00%   mAP@10: 19.09%\n",
      "Recall@20: 76.80%   mAP@20: 20.89%\n",
      "\n",
      "\n",
      "============================================================\n",
      "Evaluating: Mean_no_CLS\n",
      "============================================================\n"
     ]
    },
    {
     "name": "stderr",
     "output_type": "stream",
     "text": [
      "/tmp/ipykernel_1484/2298934414.py:5: DeprecationWarning: `in1d` is deprecated. Use `np.isin` instead.\n",
      "  if np.sum(np.in1d(ranks[qidx,:k], pidx[qidx])) > 0:\n"
     ]
    },
    {
     "name": "stdout",
     "output_type": "stream",
     "text": [
      "MODEL: openai/clip-vit-base-patch16\n",
      "Pooling: Mean_no_CLS\n",
      "MAP: 24.87%\n",
      "Recall@1: 31.00%   mAP@1: 31.00%\n",
      "Recall@5: 51.40%   mAP@5: 19.60%\n",
      "Recall@10: 64.20%   mAP@10: 19.05%\n",
      "Recall@20: 76.60%   mAP@20: 20.84%\n",
      "\n",
      "\n",
      "============================================================\n",
      "Evaluating: Max_pooling\n",
      "============================================================\n"
     ]
    },
    {
     "name": "stderr",
     "output_type": "stream",
     "text": [
      "/tmp/ipykernel_1484/2298934414.py:5: DeprecationWarning: `in1d` is deprecated. Use `np.isin` instead.\n",
      "  if np.sum(np.in1d(ranks[qidx,:k], pidx[qidx])) > 0:\n"
     ]
    },
    {
     "name": "stdout",
     "output_type": "stream",
     "text": [
      "MODEL: openai/clip-vit-base-patch16\n",
      "Pooling: Max_pooling\n",
      "MAP: 21.02%\n",
      "Recall@1: 28.00%   mAP@1: 28.00%\n",
      "Recall@5: 49.80%   mAP@5: 16.99%\n",
      "Recall@10: 66.20%   mAP@10: 16.63%\n",
      "Recall@20: 79.40%   mAP@20: 17.48%\n",
      "\n",
      "\n",
      "============================================================\n",
      "Evaluating: GeM_pooling\n",
      "============================================================\n"
     ]
    },
    {
     "name": "stderr",
     "output_type": "stream",
     "text": [
      "/tmp/ipykernel_1484/2298934414.py:5: DeprecationWarning: `in1d` is deprecated. Use `np.isin` instead.\n",
      "  if np.sum(np.in1d(ranks[qidx,:k], pidx[qidx])) > 0:\n"
     ]
    },
    {
     "name": "stdout",
     "output_type": "stream",
     "text": [
      "MODEL: openai/clip-vit-base-patch16\n",
      "Pooling: GeM_pooling\n",
      "MAP: 21.92%\n",
      "Recall@1: 28.40%   mAP@1: 28.40%\n",
      "Recall@5: 48.80%   mAP@5: 16.95%\n",
      "Recall@10: 64.80%   mAP@10: 16.76%\n",
      "Recall@20: 76.40%   mAP@20: 18.12%\n",
      "\n",
      "\n",
      "\n",
      "\n",
      "\n",
      "================================================================================\n",
      "Loading model: openai/clip-vit-base-patch32\n",
      "================================================================================\n",
      "\n"
     ]
    },
    {
     "name": "stderr",
     "output_type": "stream",
     "text": [
      "100%|██████████| 1000/1000 [00:10<00:00, 95.56it/s]\n",
      "100%|██████████| 500/500 [00:05<00:00, 95.93it/s]\n",
      "/tmp/ipykernel_1484/2298934414.py:5: DeprecationWarning: `in1d` is deprecated. Use `np.isin` instead.\n",
      "  if np.sum(np.in1d(ranks[qidx,:k], pidx[qidx])) > 0:\n"
     ]
    },
    {
     "name": "stdout",
     "output_type": "stream",
     "text": [
      "============================================================\n",
      "Evaluating: CLS_token\n",
      "============================================================\n",
      "MODEL: openai/clip-vit-base-patch32\n",
      "Pooling: CLS_token\n",
      "MAP: 20.10%\n",
      "Recall@1: 25.20%   mAP@1: 25.20%\n",
      "Recall@5: 47.20%   mAP@5: 16.26%\n",
      "Recall@10: 63.40%   mAP@10: 15.90%\n",
      "Recall@20: 72.00%   mAP@20: 16.57%\n",
      "\n",
      "\n",
      "============================================================\n",
      "Evaluating: Mean_pooling\n",
      "============================================================\n"
     ]
    },
    {
     "name": "stderr",
     "output_type": "stream",
     "text": [
      "/tmp/ipykernel_1484/2298934414.py:5: DeprecationWarning: `in1d` is deprecated. Use `np.isin` instead.\n",
      "  if np.sum(np.in1d(ranks[qidx,:k], pidx[qidx])) > 0:\n"
     ]
    },
    {
     "name": "stdout",
     "output_type": "stream",
     "text": [
      "MODEL: openai/clip-vit-base-patch32\n",
      "Pooling: Mean_pooling\n",
      "MAP: 25.37%\n",
      "Recall@1: 35.60%   mAP@1: 35.60%\n",
      "Recall@5: 55.60%   mAP@5: 20.79%\n",
      "Recall@10: 65.60%   mAP@10: 19.86%\n",
      "Recall@20: 75.00%   mAP@20: 21.27%\n",
      "\n",
      "\n",
      "============================================================\n",
      "Evaluating: Mean_no_CLS\n",
      "============================================================\n"
     ]
    },
    {
     "name": "stderr",
     "output_type": "stream",
     "text": [
      "/tmp/ipykernel_1484/2298934414.py:5: DeprecationWarning: `in1d` is deprecated. Use `np.isin` instead.\n",
      "  if np.sum(np.in1d(ranks[qidx,:k], pidx[qidx])) > 0:\n"
     ]
    },
    {
     "name": "stdout",
     "output_type": "stream",
     "text": [
      "MODEL: openai/clip-vit-base-patch32\n",
      "Pooling: Mean_no_CLS\n",
      "MAP: 25.44%\n",
      "Recall@1: 35.40%   mAP@1: 35.40%\n",
      "Recall@5: 55.60%   mAP@5: 20.86%\n",
      "Recall@10: 65.40%   mAP@10: 19.93%\n",
      "Recall@20: 75.00%   mAP@20: 21.31%\n",
      "\n",
      "\n",
      "============================================================\n",
      "Evaluating: Max_pooling\n",
      "============================================================\n"
     ]
    },
    {
     "name": "stderr",
     "output_type": "stream",
     "text": [
      "/tmp/ipykernel_1484/2298934414.py:5: DeprecationWarning: `in1d` is deprecated. Use `np.isin` instead.\n",
      "  if np.sum(np.in1d(ranks[qidx,:k], pidx[qidx])) > 0:\n"
     ]
    },
    {
     "name": "stdout",
     "output_type": "stream",
     "text": [
      "MODEL: openai/clip-vit-base-patch32\n",
      "Pooling: Max_pooling\n",
      "MAP: 22.22%\n",
      "Recall@1: 32.60%   mAP@1: 32.60%\n",
      "Recall@5: 58.40%   mAP@5: 18.76%\n",
      "Recall@10: 70.40%   mAP@10: 17.68%\n",
      "Recall@20: 82.00%   mAP@20: 18.53%\n",
      "\n",
      "\n",
      "============================================================\n",
      "Evaluating: GeM_pooling\n",
      "============================================================\n"
     ]
    },
    {
     "name": "stderr",
     "output_type": "stream",
     "text": [
      "/tmp/ipykernel_1484/2298934414.py:5: DeprecationWarning: `in1d` is deprecated. Use `np.isin` instead.\n",
      "  if np.sum(np.in1d(ranks[qidx,:k], pidx[qidx])) > 0:\n"
     ]
    },
    {
     "name": "stdout",
     "output_type": "stream",
     "text": [
      "MODEL: openai/clip-vit-base-patch32\n",
      "Pooling: GeM_pooling\n",
      "MAP: 28.10%\n",
      "Recall@1: 38.80%   mAP@1: 38.80%\n",
      "Recall@5: 61.40%   mAP@5: 24.62%\n",
      "Recall@10: 72.80%   mAP@10: 23.33%\n",
      "Recall@20: 82.20%   mAP@20: 24.15%\n",
      "\n",
      "\n",
      "\n",
      "\n"
     ]
    }
   ],
   "source": [
    "for MODEL_TO_USE, feat_dim in CLIP_MODELS.items():\n",
    "    print(f\"\\n{'='*80}\")\n",
    "    print(f\"Loading model: {MODEL_TO_USE}\")\n",
    "    print(f\"{'='*80}\\n\")\n",
    "    \n",
    "    try:\n",
    "        model = CLIPModel.from_pretrained(MODEL_TO_USE)\n",
    "        processor = CLIPProcessor.from_pretrained(MODEL_TO_USE)\n",
    "        device = \"cuda:1\" if torch.cuda.is_available() else \"cpu\"\n",
    "        model = model.to(device)\n",
    "        \n",
    "    except Exception as e:\n",
    "        print(e)\n",
    "        continue\n",
    "    \n",
    "    m_feats_cls = np.zeros((len(m_imgs), feat_dim), dtype=np.float32)\n",
    "    m_feats_mean = np.zeros((len(m_imgs), feat_dim), dtype=np.float32)\n",
    "    m_feats_mean_no_cls = np.zeros((len(m_imgs), feat_dim), dtype=np.float32)\n",
    "    m_feats_max = np.zeros((len(m_imgs), feat_dim), dtype=np.float32)\n",
    "    m_feats_gem = np.zeros((len(m_imgs), feat_dim), dtype=np.float32)\n",
    "    \n",
    "    p = 3.0\n",
    "    \n",
    "    for i, img_name in enumerate(tqdm(m_imgs)):\n",
    "        img = Image.open(os.path.join('../data02/', img_name))\n",
    "        inputs = processor(images=img, return_tensors=\"pt\").to(device)\n",
    "        \n",
    "        with torch.inference_mode():\n",
    "            vision_outputs = model.vision_model(**inputs)\n",
    "        \n",
    "        m_feats_cls[i] = vision_outputs.pooler_output[0].cpu().numpy()\n",
    "        m_feats_mean[i] = vision_outputs.last_hidden_state.mean(dim=1)[0].cpu().numpy()\n",
    "        m_feats_mean_no_cls[i] = vision_outputs.last_hidden_state[:, 1:, :].mean(dim=1)[0].cpu().numpy()\n",
    "        m_feats_max[i] = vision_outputs.last_hidden_state.max(dim=1)[0][0].cpu().numpy()\n",
    "        m_feats_gem[i] = vision_outputs.last_hidden_state[:, 1:, :].clamp(min=1e-6).pow(p).mean(dim=1).pow(1./p)[0].cpu().numpy()\n",
    "    \n",
    "    q_feats_cls = np.zeros((len(q_imgs), feat_dim), dtype=np.float32)\n",
    "    q_feats_mean = np.zeros((len(q_imgs), feat_dim), dtype=np.float32)\n",
    "    q_feats_mean_no_cls = np.zeros((len(q_imgs), feat_dim), dtype=np.float32)\n",
    "    q_feats_max = np.zeros((len(q_imgs), feat_dim), dtype=np.float32)\n",
    "    q_feats_gem = np.zeros((len(q_imgs), feat_dim), dtype=np.float32)\n",
    "    \n",
    "    for i, img_name in enumerate(tqdm(q_imgs)):\n",
    "        img = Image.open(os.path.join('../data02/', img_name))\n",
    "        inputs = processor(images=img, return_tensors=\"pt\").to(device)\n",
    "        \n",
    "        with torch.inference_mode():\n",
    "            vision_outputs = model.vision_model(**inputs)\n",
    "        \n",
    "        q_feats_cls[i] = vision_outputs.pooler_output[0].cpu().numpy()\n",
    "        q_feats_mean[i] = vision_outputs.last_hidden_state.mean(dim=1)[0].cpu().numpy()\n",
    "        q_feats_mean_no_cls[i] = vision_outputs.last_hidden_state[:, 1:, :].mean(dim=1)[0].cpu().numpy()\n",
    "        q_feats_max[i] = vision_outputs.last_hidden_state.max(dim=1)[0][0].cpu().numpy()\n",
    "        q_feats_gem[i] = vision_outputs.last_hidden_state[:, 1:, :].clamp(min=1e-6).pow(p).mean(dim=1).pow(1./p)[0].cpu().numpy()\n",
    "    \n",
    "    m_feats_cls = l2_normalize(m_feats_cls, axis=1)\n",
    "    m_feats_mean = l2_normalize(m_feats_mean, axis=1)\n",
    "    m_feats_mean_no_cls = l2_normalize(m_feats_mean_no_cls, axis=1)\n",
    "    m_feats_max = l2_normalize(m_feats_max, axis=1)\n",
    "    m_feats_gem = l2_normalize(m_feats_gem, axis=1)\n",
    "    \n",
    "    q_feats_cls = l2_normalize(q_feats_cls, axis=1)\n",
    "    q_feats_mean = l2_normalize(q_feats_mean, axis=1)\n",
    "    q_feats_mean_no_cls = l2_normalize(q_feats_mean_no_cls, axis=1)\n",
    "    q_feats_max = l2_normalize(q_feats_max, axis=1)\n",
    "    q_feats_gem = l2_normalize(q_feats_gem, axis=1)\n",
    "    \n",
    "    pooling_strategies = {\n",
    "        \"CLS_token\": (q_feats_cls, m_feats_cls),\n",
    "        \"Mean_pooling\": (q_feats_mean, m_feats_mean),\n",
    "        \"Mean_no_CLS\": (q_feats_mean_no_cls, m_feats_mean_no_cls),\n",
    "        \"Max_pooling\": (q_feats_max, m_feats_max),\n",
    "        \"GeM_pooling\": (q_feats_gem, m_feats_gem),\n",
    "    }\n",
    "    \n",
    "    all_results = []\n",
    "    best = None\n",
    "    best_map = 0.0\n",
    "    best_recall_at_k = None\n",
    "    best_mAPs = None\n",
    "    \n",
    "    for pooling_name, (q_feats, m_feats) in pooling_strategies.items():\n",
    "        print(f\"{'='*60}\")\n",
    "        print(f\"Evaluating: {pooling_name}\")\n",
    "        print(f\"{'='*60}\")\n",
    "        \n",
    "        similarities = cosine_similarity(q_feats, m_feats)\n",
    "        \n",
    "        all_rel = {}\n",
    "        all_ret = {}\n",
    "        for query_idx in range(len(similarities)):\n",
    "            all_rel[query_idx] = get_relevant_images(sim, query_idx)\n",
    "            all_ret[query_idx] = get_retrieved_images(similarities, query_idx)\n",
    "\n",
    "        ranks = np.argsort(-similarities, axis=1) \n",
    "        \n",
    "        Q = similarities.shape[0]\n",
    "        pidx = [np.array(all_rel[q], dtype=int) for q in range(Q)]\n",
    "        \n",
    "        ks = [1, 5, 10, 20]\n",
    "        recall_at_k = recall(ranks, pidx, ks)\n",
    "        mAPs = mapk_many(ranks, pidx, ks)\n",
    "        map_value = mean_average_precision(all_rel, all_ret)\n",
    "        \n",
    "        if best is None or map_value > best_map:\n",
    "            best_map = map_value\n",
    "            best = pooling_name\n",
    "            best_recall_at_k = recall_at_k\n",
    "            best_mAPs = mAPs\n",
    "        \n",
    "        print(f\"MODEL: {MODEL_TO_USE}\")\n",
    "        print(f\"Pooling: {pooling_name}\")\n",
    "        print(f\"MAP: {map_value*100:.2f}%\")\n",
    "        for k, r, m in zip(ks, recall_at_k, mAPs):\n",
    "            print(f\"Recall@{k}: {r*100:.2f}%   mAP@{k}: {m*100:.2f}%\")\n",
    "        print(\"\\n\")\n",
    "        \n",
    "        result_dict = {\n",
    "            \"models_name\": f\"{MODEL_TO_USE}_{pooling_name}\",\n",
    "            \"pooling_strategy\": pooling_name,\n",
    "            \"MAP\": map_value * 100,\n",
    "            \"Recall@1\": recall_at_k[0] * 100,\n",
    "            \"Recall@5\": recall_at_k[1] * 100,\n",
    "            \"Recall@10\": recall_at_k[2] * 100,\n",
    "            \"Recall@20\": recall_at_k[3] * 100,\n",
    "            \"mAP@1\": mAPs[0] * 100,\n",
    "            \"mAP@5\": mAPs[1] * 100,\n",
    "            \"mAP@10\": mAPs[2] * 100,\n",
    "            \"mAP@20\": mAPs[3] * 100\n",
    "        }\n",
    "        all_results.append(result_dict)\n",
    "    \n",
    "    df_results = pd.DataFrame(all_results)\n",
    "    CSV_PATH = f\"./results/pooling_comparison/{MODEL_TO_USE.replace('/', '_')}_pooling_comparison.csv\"\n",
    "    os.makedirs(os.path.dirname(CSV_PATH), exist_ok=True)\n",
    "    df_results.to_csv(CSV_PATH, index=False)\n",
    "    \n",
    "    df_main = save_results_to_csv(f\"{MODEL_TO_USE}_{best}\", best_map, best_recall_at_k, best_mAPs)\n",
    "    \n",
    "    del model\n",
    "    if torch.cuda.is_available(): torch.cuda.empty_cache()\n",
    "    \n",
    "    print(\"\\n\")"
   ]
  },
  {
   "cell_type": "code",
   "execution_count": 45,
   "id": "44b3e846-3179-4a48-b86b-e300290beeec",
   "metadata": {
    "tags": []
   },
   "outputs": [
    {
     "name": "stdout",
     "output_type": "stream",
     "text": [
      "\n",
      "=== FINAL MODEL COMPARISON (Best pooling for each) ===\n",
      "                                                 models_name       MAP  Recall@1  Recall@20\n",
      "    facebook/dinov3-vith16plus-pretrain-lvd1689m_GeM_pooling 36.461502      44.0       82.4\n",
      "        facebook/dinov3-vitb16-pretrain-lvd1689m_GeM_pooling 34.103124      41.4       85.4\n",
      "        facebook/dinov3-vitl16-pretrain-lvd1689m_Max_pooling 34.050443      40.4       80.2\n",
      "          facebook/dinov3-vits16-pretrain-lvd1689m_CLS_token 30.767844      38.0       77.6\n",
      "      facebook/dinov3-vits16plus-pretrain-lvd1689m_CLS_token 29.901573      33.6       73.6\n",
      "                   openai/clip-vit-large-patch14_Mean_no_CLS 28.641709      32.6       80.4\n",
      "                    openai/clip-vit-base-patch32_GeM_pooling 28.097766      38.8       82.2\n",
      "                            geolocal/StreetCLIP_Mean_pooling 25.725327      30.0       73.8\n",
      "                   openai/clip-vit-base-patch16_Mean_pooling 24.915458      31.0       76.8\n",
      " facebook/dinov3-convnext-tiny-pretrain-lvd1689m_Max_pooling 21.360585      26.6       67.2\n",
      "facebook/dinov3-convnext-large-pretrain-lvd1689m_Max_pooling 19.291822      24.2       64.2\n",
      " facebook/dinov3-convnext-base-pretrain-lvd1689m_GeM_pooling 18.573780      24.6       55.6\n",
      "facebook/dinov3-convnext-small-pretrain-lvd1689m_GeM_pooling 17.523884      20.6       60.8\n"
     ]
    }
   ],
   "source": [
    "df_final = pd.read_csv(\"./results/feature_extraction_evaluation.csv\")\n",
    "print(\"\\n=== FINAL MODEL COMPARISON (Best pooling for each) ===\")\n",
    "print(df_final[['models_name', 'MAP', 'Recall@1', 'Recall@20']].sort_values('MAP', ascending=False).to_string(index=False))"
   ]
  }
 ],
 "metadata": {
  "kernelspec": {
   "display_name": "Python (gemma3)",
   "language": "python",
   "name": "gemma3"
  },
  "language_info": {
   "codemirror_mode": {
    "name": "ipython",
    "version": 3
   },
   "file_extension": ".py",
   "mimetype": "text/x-python",
   "name": "python",
   "nbconvert_exporter": "python",
   "pygments_lexer": "ipython3",
   "version": "3.11.8"
  }
 },
 "nbformat": 4,
 "nbformat_minor": 5
}
